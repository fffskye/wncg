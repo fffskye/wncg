{
 "cells": [
  {
   "cell_type": "code",
   "execution_count": 6,
   "metadata": {},
   "outputs": [
    {
     "name": "stdout",
     "output_type": "stream",
     "text": [
      "请输入一个要查找的数字45\n",
      "存在此数字\n"
     ]
    }
   ],
   "source": [
    "b=[1,5,8,11,13,18,20,28,45]\n",
    "min=b[0]\n",
    "max=b[8]\n",
    "num=int(input(\"请输入一个要查找的数字\"))\n",
    "if num in b:\n",
    "    while True:\n",
    "        zws=int((min+max)/2)\n",
    "        if num==zws:\n",
    "            print(\"存在此数字\")\n",
    "            break\n",
    "        elif num>zws:\n",
    "            min=zws+1\n",
    "        elif num<zws:\n",
    "            max=zws-1\n",
    "else:\n",
    "    print(\"无该数字\")\n",
    "\n",
    "    \n",
    "\n",
    "    "
   ]
  },
  {
   "cell_type": "code",
   "execution_count": null,
   "metadata": {},
   "outputs": [],
   "source": []
  }
 ],
 "metadata": {
  "kernelspec": {
   "display_name": "Python 3",
   "language": "python",
   "name": "python3"
  },
  "language_info": {
   "codemirror_mode": {
    "name": "ipython",
    "version": 3
   },
   "file_extension": ".py",
   "mimetype": "text/x-python",
   "name": "python",
   "nbconvert_exporter": "python",
   "pygments_lexer": "ipython3",
   "version": "3.7.1"
  }
 },
 "nbformat": 4,
 "nbformat_minor": 2
}
