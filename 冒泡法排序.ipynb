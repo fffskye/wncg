{
 "cells": [
  {
   "cell_type": "code",
   "execution_count": 43,
   "metadata": {},
   "outputs": [
    {
     "name": "stdout",
     "output_type": "stream",
     "text": [
      "原数列为:\n",
      " 8357651144\n"
     ]
    },
    {
     "data": {
      "text/plain": [
       "['1', '1', '3', '4', '4', '5', '5', '6', '7', '8']"
      ]
     },
     "execution_count": 43,
     "metadata": {},
     "output_type": "execute_result"
    }
   ],
   "source": [
    "import random\n",
    "list=[]\n",
    "b=[]\n",
    "for i in range(1,10):\n",
    "    list.append(str(i))\n",
    "def a():\n",
    "    s=' '\n",
    "    for x in range(10):\n",
    "        a=random.choice(list)\n",
    "        b.append(a)\n",
    "        s=s+a\n",
    "    print(s)\n",
    "print(\"原数列为:\")\n",
    "a()\n",
    "for i in range(0,10):\n",
    "    for j in range(0,10):\n",
    "        if b[i]<=b[j]:\n",
    "            t=b[i]\n",
    "            b[i]=b[j]\n",
    "            b[j]=t\n",
    "b\n",
    "\n",
    "\n",
    "    \n",
    "    \n"
   ]
  },
  {
   "cell_type": "code",
   "execution_count": 3,
   "metadata": {},
   "outputs": [
    {
     "name": "stdout",
     "output_type": "stream",
     "text": [
      "原数列为:\n",
      " 4265495427\n"
     ]
    },
    {
     "data": {
      "text/plain": [
       "['2', '2', '4', '4', '4', '5', '5', '6', '7', '9']"
      ]
     },
     "execution_count": 3,
     "metadata": {},
     "output_type": "execute_result"
    }
   ],
   "source": [
    "import random\n",
    "list=[]\n",
    "b=[]\n",
    "for i in range(1,10):\n",
    "    list.append(str(i))\n",
    "def a():\n",
    "    s=' '\n",
    "    for x in range(10):\n",
    "        a=random.choice(list)\n",
    "        b.append(a)\n",
    "        s=s+a\n",
    "    print(s)\n",
    "print(\"原数列为:\")\n",
    "a()\n",
    "for i in range(len(b)):\n",
    "    for j in range(len(b)):\n",
    "        if b[i]<=b[j]:\n",
    "            t=b[i]\n",
    "            b[i]=b[j]\n",
    "            b[j]=t\n",
    "b"
   ]
  }
 ],
 "metadata": {
  "kernelspec": {
   "display_name": "Python 3",
   "language": "python",
   "name": "python3"
  },
  "language_info": {
   "codemirror_mode": {
    "name": "ipython",
    "version": 3
   },
   "file_extension": ".py",
   "mimetype": "text/x-python",
   "name": "python",
   "nbconvert_exporter": "python",
   "pygments_lexer": "ipython3",
   "version": "3.7.1"
  }
 },
 "nbformat": 4,
 "nbformat_minor": 2
}
