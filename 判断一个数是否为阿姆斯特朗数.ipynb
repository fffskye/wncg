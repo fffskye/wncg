{
 "cells": [
  {
   "cell_type": "code",
   "execution_count": 57,
   "metadata": {},
   "outputs": [
    {
     "name": "stdout",
     "output_type": "stream",
     "text": [
      "请输入一个数153\n",
      "这个数为阿姆斯特朗数\n"
     ]
    }
   ],
   "source": [
    "n=int(input(\"请输入一个数\"))\n",
    "m=len(str(n))        #算出输入数字的位数\n",
    "s=0\n",
    "b=0\n",
    "for i in range(1,m+1):\n",
    "    a=(n-b)//(10**(m-i))\n",
    "    b=b+(a*10**(m-i))\n",
    "    s=s+(a**m)\n",
    "if s==n:\n",
    "    print(\"这个数为阿姆斯特朗数\")\n",
    "else:\n",
    "    print(\"这个数不为阿姆斯特朗数\")\n"
   ]
  }
 ],
 "metadata": {
  "kernelspec": {
   "display_name": "Python 3",
   "language": "python",
   "name": "python3"
  },
  "language_info": {
   "codemirror_mode": {
    "name": "ipython",
    "version": 3
   },
   "file_extension": ".py",
   "mimetype": "text/x-python",
   "name": "python",
   "nbconvert_exporter": "python",
   "pygments_lexer": "ipython3",
   "version": "3.7.1"
  }
 },
 "nbformat": 4,
 "nbformat_minor": 2
}
