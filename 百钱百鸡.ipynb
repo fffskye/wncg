{
 "cells": [
  {
   "cell_type": "code",
   "execution_count": 40,
   "metadata": {},
   "outputs": [
    {
     "name": "stdout",
     "output_type": "stream",
     "text": [
      "公鸡数量为4,母鸡数量为18,小鸡数量为78\n",
      "公鸡数量为8,母鸡数量为11,小鸡数量为81\n",
      "公鸡数量为12,母鸡数量为4,小鸡数量为84\n"
     ]
    }
   ],
   "source": [
    "#设公鸡数量为x，母鸡数量为y,则小鸡数量为100-x-y.公鸡5文钱一只，母鸡3文钱一只，小鸡3只一文钱，用100文钱买100只鸡.\n",
    "for x in range(1,100):\n",
    "    for y in range(1,100):\n",
    "        if(5*x+3*y+(100-x-y)/3==100):\n",
    "            print(\"公鸡数量为%s,母鸡数量为%s,小鸡数量为%s\"%(x,y,100-x-y))\n",
    "            \n"
   ]
  },
  {
   "cell_type": "code",
   "execution_count": null,
   "metadata": {},
   "outputs": [],
   "source": []
  }
 ],
 "metadata": {
  "kernelspec": {
   "display_name": "Python 3",
   "language": "python",
   "name": "python3"
  },
  "language_info": {
   "codemirror_mode": {
    "name": "ipython",
    "version": 3
   },
   "file_extension": ".py",
   "mimetype": "text/x-python",
   "name": "python",
   "nbconvert_exporter": "python",
   "pygments_lexer": "ipython3",
   "version": "3.7.1"
  }
 },
 "nbformat": 4,
 "nbformat_minor": 2
}
