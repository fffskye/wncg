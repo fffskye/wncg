{
 "cells": [
  {
   "cell_type": "code",
   "execution_count": 2,
   "metadata": {
    "scrolled": false
   },
   "outputs": [
    {
     "name": "stdout",
     "output_type": "stream",
     "text": [
      "输入一句话:  你妈今天挺牛逼的\n",
      "你*今天挺牛*的\n"
     ]
    }
   ],
   "source": [
    "s=input('输入一句话:  ')\n",
    "for mgz in open('敏感字.txt'):#找出保存在敏感字的文件中的敏感字\n",
    "    fw=mgz.rstrip()#rstrip返回删除 string 字符串末尾的空格并生成新字符串。\n",
    "    if fw in s:#判断输入的那句话里是否存在敏感字\n",
    "        fw_len=len(fw)\n",
    "        s=s.replace(fw,'*'*fw_len)  #将s在原处进行修改，进行下一次循环查找。\n",
    "\n",
    "else:\n",
    "           print(s)"
   ]
  }
 ],
 "metadata": {
  "kernelspec": {
   "display_name": "Python 3",
   "language": "python",
   "name": "python3"
  },
  "language_info": {
   "codemirror_mode": {
    "name": "ipython",
    "version": 3
   },
   "file_extension": ".py",
   "mimetype": "text/x-python",
   "name": "python",
   "nbconvert_exporter": "python",
   "pygments_lexer": "ipython3",
   "version": "3.7.1"
  }
 },
 "nbformat": 4,
 "nbformat_minor": 2
}
