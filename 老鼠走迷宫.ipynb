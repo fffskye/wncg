{
 "cells": [
  {
   "cell_type": "code",
   "execution_count": 10,
   "metadata": {},
   "outputs": [
    {
     "name": "stdout",
     "output_type": "stream",
     "text": [
      "成功走出迷宫\n"
     ]
    }
   ],
   "source": [
    "maze=[[1,1,0,1,0,1],\n",
    "      [1,1,1,0,1,0],\n",
    "      [0,0,1,0,1,0],\n",
    "      [0,1,1,1,0,0],\n",
    "      [0,0,0,1,1,0],\n",
    "      [1,0,0,0,0,0]]         \n",
    "#定义一个迷宫，maze（0，0）处为出口,1为可以行走的地方，0为不能行走的地方\n",
    "def map(maze,x,y):\n",
    "    if (x>=0 and x<len(maze) and y>=0 and y<len(maze[0]) and maze[x][y]==1):\n",
    "        return True\n",
    "    else:\n",
    "        return False          #判断是否走出迷宫规定的范围\n",
    "def move(maze,x,y):\n",
    "    if(x==0 and y==0):\n",
    "        print(\"成功走出迷宫\") #判断是否走到迷宫出口\n",
    "        return True\n",
    "    if map(maze,x,y):\n",
    "        maze[x][y]=2          #防止原路返回\n",
    "        if not move(maze,x-1,y):#对四个方向进行试探，判断哪个方向可以走，如果都不行则撤回\n",
    "            maze[x][y]=1\n",
    "        elif not move(maze,x,y-1):\n",
    "            maze[x][y]=1\n",
    "        elif not move(maze,x+1,y):\n",
    "            maze[x][y]=1\n",
    "        elif not move(maze,x,y+1):\n",
    "            maze[x][y]=1\n",
    "        else:\n",
    "            return False\n",
    "    return True        \n",
    "move(maze,4,4)       #以4，4为起点\n",
    "if  maze[0][1]==1 and maze[1][0]==1:\n",
    "    print(\"无路可走\")     #判断第0行1列或者第1行0列是否为2，若为2说明已经到达0行0列即终点，若不为2则未到达终点\n",
    " "
   ]
  },
  {
   "cell_type": "code",
   "execution_count": 11,
   "metadata": {},
   "outputs": [
    {
     "data": {
      "text/plain": [
       "6"
      ]
     },
     "execution_count": 11,
     "metadata": {},
     "output_type": "execute_result"
    }
   ],
   "source": []
  }
 ],
 "metadata": {
  "kernelspec": {
   "display_name": "Python 3",
   "language": "python",
   "name": "python3"
  },
  "language_info": {
   "codemirror_mode": {
    "name": "ipython",
    "version": 3
   },
   "file_extension": ".py",
   "mimetype": "text/x-python",
   "name": "python",
   "nbconvert_exporter": "python",
   "pygments_lexer": "ipython3",
   "version": "3.7.1"
  }
 },
 "nbformat": 4,
 "nbformat_minor": 2
}
