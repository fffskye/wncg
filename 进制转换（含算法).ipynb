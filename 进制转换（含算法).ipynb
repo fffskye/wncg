{
 "cells": [
  {
   "cell_type": "code",
   "execution_count": 33,
   "metadata": {},
   "outputs": [],
   "source": [
    "def f(n,x):\n",
    "    a=[0,1,2,3,4,5,6,7,8,9,'A','b','C','D','E','F']\n",
    "    b=[]\n",
    "    while True:\n",
    "        s=n//x#商\n",
    "        y=n%x#余数\n",
    "        b=b+[y]\n",
    "        if s==0:\n",
    "            break\n",
    "        n=s\n",
    "    b.reverse()\n",
    "    for i in b:\n",
    "        print(a[i],end='')\n",
    "        \n",
    "\n",
    "\n",
    "\n",
    "        \n"
   ]
  },
  {
   "cell_type": "code",
   "execution_count": 36,
   "metadata": {},
   "outputs": [
    {
     "name": "stdout",
     "output_type": "stream",
     "text": [
      "1100"
     ]
    }
   ],
   "source": [
    "f(12,2)"
   ]
  }
 ],
 "metadata": {
  "kernelspec": {
   "display_name": "Python 3",
   "language": "python",
   "name": "python3"
  },
  "language_info": {
   "codemirror_mode": {
    "name": "ipython",
    "version": 3
   },
   "file_extension": ".py",
   "mimetype": "text/x-python",
   "name": "python",
   "nbconvert_exporter": "python",
   "pygments_lexer": "ipython3",
   "version": "3.7.1"
  }
 },
 "nbformat": 4,
 "nbformat_minor": 2
}
