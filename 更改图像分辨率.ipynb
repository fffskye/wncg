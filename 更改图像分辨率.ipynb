{
 "cells": [
  {
   "cell_type": "code",
   "execution_count": 40,
   "metadata": {
    "scrolled": true
   },
   "outputs": [
    {
     "name": "stdout",
     "output_type": "stream",
     "text": [
      "图像初始尺寸为: 969x1920\n",
      "格式更改为: 484x960\n",
      "图像初始尺寸为: 1080x2248\n",
      "格式更改为: 540x1124\n",
      "图像初始尺寸为: 853x640\n",
      "尺寸满足iPhoneX格式，无需更改\n",
      "图像初始尺寸为: 853x640\n",
      "尺寸满足iPhoneX格式，无需更改\n",
      "图像初始尺寸为: 640x853\n",
      "尺寸满足iPhoneX格式，无需更改\n",
      "图像初始尺寸为: 640x853\n",
      "尺寸满足iPhoneX格式，无需更改\n",
      "图像初始尺寸为: 640x853\n",
      "尺寸满足iPhoneX格式，无需更改\n",
      "图像初始尺寸为: 640x853\n",
      "尺寸满足iPhoneX格式，无需更改\n",
      "图像初始尺寸为: 853x640\n",
      "尺寸满足iPhoneX格式，无需更改\n"
     ]
    }
   ],
   "source": [
    "from PIL import Image\n",
    "import os\n",
    "path = r\"C:\\Users\\LEGION\\照片\"\n",
    "os.chdir(path )\n",
    "i=0\n",
    "for a in os.listdir(path):\n",
    "    im = Image.open(a)\n",
    "    w, h = im.size\n",
    "    print('图像初始尺寸为: %sx%s' % (w, h))\n",
    "    i=i+1\n",
    "    if(w>2436 or h>1125):\n",
    "            im.thumbnail((w//2, h//2))\n",
    "            print('格式更改为: %sx%s' % (w//2, h//2))\n",
    "            im.save('%s.jpg' % i)\n",
    "    else:\n",
    "        print(\"尺寸满足iPhoneX格式，无需更改\")"
   ]
  },
  {
   "cell_type": "code",
   "execution_count": null,
   "metadata": {},
   "outputs": [],
   "source": []
  },
  {
   "cell_type": "code",
   "execution_count": null,
   "metadata": {},
   "outputs": [],
   "source": []
  },
  {
   "cell_type": "code",
   "execution_count": null,
   "metadata": {},
   "outputs": [],
   "source": []
  }
 ],
 "metadata": {
  "kernelspec": {
   "display_name": "Python 3",
   "language": "python",
   "name": "python3"
  },
  "language_info": {
   "codemirror_mode": {
    "name": "ipython",
    "version": 3
   },
   "file_extension": ".py",
   "mimetype": "text/x-python",
   "name": "python",
   "nbconvert_exporter": "python",
   "pygments_lexer": "ipython3",
   "version": "3.7.1"
  }
 },
 "nbformat": 4,
 "nbformat_minor": 2
}
