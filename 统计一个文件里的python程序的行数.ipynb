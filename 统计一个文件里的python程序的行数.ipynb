{
 "cells": [
  {
   "cell_type": "code",
   "execution_count": 29,
   "metadata": {
    "scrolled": false
   },
   "outputs": [
    {
     "name": "stdout",
     "output_type": "stream",
     "text": [
      "D:\\WNCG\\1-100累加.py----行数： 5\n",
      "D:\\WNCG\\1-100累加.py----空行数和注释数： 1\n",
      "D:\\WNCG\\hello.py----行数： 1\n",
      "D:\\WNCG\\hello.py----空行数和注释数： 0\n",
      "D:\\WNCG\\一个数的n次方.py----行数： 7\n",
      "D:\\WNCG\\一个数的n次方.py----空行数和注释数： 0\n",
      "D:\\WNCG\\一个数的n次方（可自己输入值）.py----行数： 8\n",
      "D:\\WNCG\\一个数的n次方（可自己输入值）.py----空行数和注释数： 0\n",
      "D:\\WNCG\\水仙花数.py----行数： 6\n",
      "D:\\WNCG\\水仙花数.py----空行数和注释数： 0\n",
      "总行数: 28\n"
     ]
    }
   ],
   "source": [
    "import os\n",
    "basedir = 'D:\\WNCG'\n",
    "filelists = []\n",
    "whitelist = [ 'py']\n",
    "def llwj(x):\n",
    "    global filelists   #为定义在函数外的变量赋值。\n",
    "    for parent,dirnames,filenames in os.walk(x):   #依次输出目录名，文件名\n",
    "        for filename in filenames:\n",
    "            ext = filename.split('.')[-1]#获取文件\".\"之后的字符串\n",
    "            if ext in whitelist:     #判断文件是否为py格式\n",
    "                filelists.append(os.path.join(parent,filename))    #输出\"D:\\wncg\"\n",
    "def hs(x):\n",
    "    a=0\n",
    "    for n in open(x,errors='ignore').readlines():\n",
    "        if n != '' and n != '\\n': #过滤掉空行\n",
    "            a=a+1\n",
    "    print(x + '----行数：' , a)\n",
    "    return a\n",
    "def kh(x):\n",
    "    a=0\n",
    "    for n in open(x,errors='ignore').readlines():\n",
    "        if n.startswith('#') or n == '\\n' or n==' ':   #提出空行数和注释数\n",
    "            a=a+1\n",
    "    print(x + '----空行数和注释数：' , a)\n",
    "    return a \n",
    "llwj(basedir)\n",
    "totalline = 0\n",
    "for filelist in filelists:\n",
    "    totalline = totalline + hs(filelist) + kh(filelist)\n",
    "print('总行数:',totalline)"
   ]
  },
  {
   "cell_type": "code",
   "execution_count": null,
   "metadata": {},
   "outputs": [],
   "source": []
  }
 ],
 "metadata": {
  "kernelspec": {
   "display_name": "Python 3",
   "language": "python",
   "name": "python3"
  },
  "language_info": {
   "codemirror_mode": {
    "name": "ipython",
    "version": 3
   },
   "file_extension": ".py",
   "mimetype": "text/x-python",
   "name": "python",
   "nbconvert_exporter": "python",
   "pygments_lexer": "ipython3",
   "version": "3.7.1"
  }
 },
 "nbformat": 4,
 "nbformat_minor": 2
}
