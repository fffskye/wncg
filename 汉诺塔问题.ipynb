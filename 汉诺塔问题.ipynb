{
 "cells": [
  {
   "cell_type": "code",
   "execution_count": 1,
   "metadata": {},
   "outputs": [
    {
     "name": "stdout",
     "output_type": "stream",
     "text": [
      "请输入个数4\n",
      "A -> B\n",
      "A -> C\n",
      "B -> C\n",
      "A -> B\n",
      "C -> A\n",
      "C -> B\n",
      "A -> B\n",
      "A -> C\n",
      "B -> C\n",
      "B -> A\n",
      "C -> A\n",
      "B -> C\n",
      "A -> B\n",
      "A -> C\n",
      "B -> C\n"
     ]
    }
   ],
   "source": [
    "def move(n,a,b,c):\n",
    "    if n==1:\n",
    "        print(a,'->',c)#将只有一个盘子的情况单独拿出来考虑\n",
    "    else:\n",
    "        move(n-1,a,c,b)#把上面n-1个放到b柱上（把b柱和c柱位置进行调换）\n",
    "        print(a,'->',c)#把a柱上最下面的一个放在c柱上\n",
    "        move(n-1,b,a,c)\n",
    "    #把b柱上剩下的盘子放回a柱，此时已把a柱最先面的盘子放在c柱下，再利用递归重复此动作\n",
    "num=int(input(\"请输入个数\"))\n",
    "move(num,'A','B','C')    "
   ]
  },
  {
   "cell_type": "code",
   "execution_count": null,
   "metadata": {},
   "outputs": [],
   "source": []
  }
 ],
 "metadata": {
  "kernelspec": {
   "display_name": "Python 3",
   "language": "python",
   "name": "python3"
  },
  "language_info": {
   "codemirror_mode": {
    "name": "ipython",
    "version": 3
   },
   "file_extension": ".py",
   "mimetype": "text/x-python",
   "name": "python",
   "nbconvert_exporter": "python",
   "pygments_lexer": "ipython3",
   "version": "3.7.1"
  }
 },
 "nbformat": 4,
 "nbformat_minor": 2
}
