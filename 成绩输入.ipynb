{
 "cells": [
  {
   "cell_type": "code",
   "execution_count": 1,
   "metadata": {},
   "outputs": [
    {
     "name": "stdout",
     "output_type": "stream",
     "text": [
      "请输入该生成绩12\n",
      "该生成绩为C\n"
     ]
    }
   ],
   "source": [
    "x=int(input('请输入该生成绩'))\n",
    "if x>=0 and x<=100:\n",
    "    if x>=90:\n",
    "        print(\"该生成绩为A\")\n",
    "    elif x<90 and x>=60:\n",
    "        print(\"该生成绩为B\")\n",
    "    else:\n",
    "        print(\"该生成绩为C\")\n",
    "else:\n",
    "    print(\"成绩输入错误\")\n",
    "    "
   ]
  }
 ],
 "metadata": {
  "kernelspec": {
   "display_name": "Python 3",
   "language": "python",
   "name": "python3"
  },
  "language_info": {
   "codemirror_mode": {
    "name": "ipython",
    "version": 3
   },
   "file_extension": ".py",
   "mimetype": "text/x-python",
   "name": "python",
   "nbconvert_exporter": "python",
   "pygments_lexer": "ipython3",
   "version": "3.7.1"
  }
 },
 "nbformat": 4,
 "nbformat_minor": 2
}
